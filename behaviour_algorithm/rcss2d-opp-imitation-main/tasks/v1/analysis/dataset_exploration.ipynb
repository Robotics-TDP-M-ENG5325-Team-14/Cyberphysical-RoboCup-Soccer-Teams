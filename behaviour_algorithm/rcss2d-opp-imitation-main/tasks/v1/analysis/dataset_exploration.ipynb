{
 "cells": [
  {
   "cell_type": "code",
   "execution_count": null,
   "metadata": {},
   "outputs": [],
   "source": [
    "import matplotlib.pyplot as plt\n",
    "plt.style.use('default')\n",
    "plt.rc('text', usetex=True)\n",
    "plt.rcParams.update({'font.family': 'serif'})\n",
    "plt.rcParams.update({'font.size': 16})\n",
    "import numpy as np\n",
    "import os\n",
    "import pandas as pd\n",
    "import seaborn as sb\n",
    "sb.color_palette(\"tab10\")\n",
    "import tensorflow as tf\n",
    "import tensorflow.keras as keras\n",
    "import tensorflow_io as tfio\n",
    "import time\n",
    "os.chdir('Change this to your directory!') # Change this to your directory!\n",
    "tf.random.set_seed(42)"
   ]
  },
  {
   "cell_type": "markdown",
   "metadata": {},
   "source": [
    "# Preparations\n",
    "First we need the data, right."
   ]
  },
  {
   "cell_type": "code",
   "execution_count": null,
   "metadata": {
    "scrolled": true
   },
   "outputs": [],
   "source": [
    "start = time.time()\n",
    "position_features = ['x','y']\n",
    "pose_features = position_features + ['body']\n",
    "vel_features = ['vx','vy']\n",
    "heteroparam_features = [\n",
    "    'dash_power_rate',\n",
    "    'effort_min',\n",
    "    'effort_max',\n",
    "    'extra_stamina',\n",
    "    'inertia_moment',\n",
    "    'kick_rand',\n",
    "    'kickable_margin',\n",
    "    'player_decay'\n",
    "]\n",
    "feature_columns = [\n",
    "    *(f\"ball_{feature}\" for feature in position_features + vel_features),\n",
    "    *(f\"{side}{unum}_{feature}\" for side in ('l', 'r') for unum in range(1,12) for feature in pose_features + vel_features + heteroparam_features),\n",
    "    *(f\"self_{feature}\" for feature in pose_features + vel_features + heteroparam_features)\n",
    "]\n",
    "output_columns = [\n",
    "    'playercommand_type',\n",
    "    'dash_power',\n",
    "    'dash_direction',\n",
    "    'turn_moment',\n",
    "    'kick_power',\n",
    "    'kick_direction',\n",
    "    'tackle_direction'\n",
    "]\n",
    "column_defaults = [\n",
    "    *(0.0 for _ in feature_columns),\n",
    "    'nop',\n",
    "    *(np.NaN for _ in output_columns[1:])\n",
    "]\n",
    "print(f\"Finished in {time.time()-start} sec\")"
   ]
  },
  {
   "cell_type": "markdown",
   "metadata": {},
   "source": [
    "This specifies our batch size, and we fetch just one.\n",
    "\n",
    "The dataset is already shuffled BY FRAMES, but each frame makes 10 datapoints (one for each of the 10 players commands issued) and these are grouped in contiguous windows of size 10.\n",
    "\n",
    "Since we have 1400 matches, starting at the 1400th one, there's a $(1399/1400)^n$ chance there's at least one match missing in a sequence of $n$ matches ($10n$ frames).\n",
    "\n",
    "Doing $1-(1399/1400)^n = 0.99$ we have a $99\\%$ chance of having at least one frame from each match if we sample $10n = 64449$ rows.\n",
    "\n",
    "Because of this, we need to shuffle the data using at least `shuffle_buffer_size=64449`."
   ]
  },
  {
   "cell_type": "code",
   "execution_count": null,
   "metadata": {
    "scrolled": true
   },
   "outputs": [],
   "source": [
    "start = time.time()\n",
    "BATCH_SIZE = 100000 # 100k rows is around 0.16 % of the dataset\n",
    "dataset = tf.data.experimental.make_csv_dataset(\n",
    "    'indiv_arch_dataset.csv.gz',\n",
    "    column_defaults=column_defaults,\n",
    "    batch_size=BATCH_SIZE,\n",
    "    compression_type='GZIP',\n",
    "    shuffle=True,\n",
    "    shuffle_buffer_size=64449\n",
    ").take(1) # Dataset with only 1 batch\n",
    "print(f\"Finished in {time.time()-start} sec\")"
   ]
  },
  {
   "cell_type": "markdown",
   "metadata": {},
   "source": [
    "Convert the dataset into a Dataframe for analysis"
   ]
  },
  {
   "cell_type": "code",
   "execution_count": null,
   "metadata": {},
   "outputs": [],
   "source": [
    "start = time.time()\n",
    "df = pd.DataFrame.from_dict(\n",
    "    data=dict(next(dataset.as_numpy_iterator()).items()), # Because we have a single batch\n",
    "    dtype=np.float32\n",
    ")\n",
    "print(f\"Finished in {time.time()-start} sec\")"
   ]
  },
  {
   "cell_type": "markdown",
   "metadata": {},
   "source": [
    "#### **Important**: This allows us to use latex with column names that have '_' characters"
   ]
  },
  {
   "cell_type": "code",
   "execution_count": null,
   "metadata": {},
   "outputs": [],
   "source": [
    "df = df.rename(lambda s: s.replace('_', '\\\\_'), axis='columns')"
   ]
  },
  {
   "cell_type": "markdown",
   "metadata": {},
   "source": [
    "We now fix the normalization of speeds which have been wrongly calculated"
   ]
  },
  {
   "cell_type": "code",
   "execution_count": null,
   "metadata": {
    "scrolled": false
   },
   "outputs": [],
   "source": [
    "start = time.time()\n",
    "##\n",
    "def correct_vel_normalizations(df):\n",
    "    cols = (df.columns)\n",
    "    ball_speed_max = 3\n",
    "    ball_rand = 0.05\n",
    "    ball_decay = 0.94\n",
    "    ##\n",
    "    player_speed_max = 1.05\n",
    "    player_rand = 0.1\n",
    "    default_player_decay = 0.4\n",
    "    player_decay_delta = 0.1\n",
    "    ##\n",
    "    # Ball\n",
    "    ##\n",
    "    if 'ball\\\\_vx' in cols and 'ball\\\\_vy' in cols:\n",
    "        ##\n",
    "        # Undo wrong ball speed domain normalization\n",
    "        ##\n",
    "        df['ball\\\\_vx'] *= ball_speed_max\n",
    "        df['ball\\\\_vy'] *= ball_speed_max\n",
    "        ##\n",
    "        # Execute right ball speed domain normalization\n",
    "        ##\n",
    "        vel_norms = np.sqrt(np.square(df['ball\\\\_vx']) + np.square(df['ball\\\\_vy']))\n",
    "        max_noise_contrib = vel_norms * ball_rand\n",
    "        df['ball\\\\_vx'] /= ball_decay * (ball_speed_max + max_noise_contrib)\n",
    "        df['ball\\\\_vy'] /= ball_decay * (ball_speed_max + max_noise_contrib)\n",
    "    elif 'ball\\\\_vx' in cols or 'ball\\\\_vy' in cols:\n",
    "        print('ERROR: Cannot normalize ball velocities without both components! Skipping.')\n",
    "    ##\n",
    "    # Players\n",
    "    ##\n",
    "    for side in ('l','r'):\n",
    "        for unum in range(1,12):\n",
    "            vx_str = f'{side}{unum}\\\\_vx'\n",
    "            vy_str = f'{side}{unum}\\\\_vy'\n",
    "            player_decay_str = f'{side}{unum}\\\\_player_decay'\n",
    "            if vx_str in cols and vy_str in cols:\n",
    "                ##\n",
    "                # Undo wrong player speed domain normalization\n",
    "                ##\n",
    "                df[vx_str] *= player_speed_max\n",
    "                df[vy_str] *= player_speed_max\n",
    "                ##\n",
    "                # Execute right player speed domain normalization\n",
    "                ##\n",
    "                vel_norms = np.sqrt(np.square(df[vx_str]) + np.square(df[vy_str]))\n",
    "                max_noise_contrib = vel_norms * player_rand\n",
    "                pdecays = default_player_decay + player_decay_delta * df[player_decay_str]\n",
    "                df[vx_str] /= pdecays * (player_speed_max + max_noise_contrib)\n",
    "                df[vy_str] /= pdecays * (player_speed_max + max_noise_contrib)\n",
    "            elif vx_str in cols or vy_str in cols:\n",
    "                print(f'ERROR: Cannot normalize {side}{unum} velocities without both components! Skipping.')\n",
    "                continue\n",
    "    ##\n",
    "    # Self\n",
    "    ##\n",
    "    if 'self\\\\_vx' in cols and 'self\\\\_vy' in cols:\n",
    "        ##\n",
    "        # Undo wrong player speed domain normalization\n",
    "        ##\n",
    "        df[f'self\\\\_vx'] *= player_speed_max\n",
    "        df[f'self\\\\_vy'] *= player_speed_max\n",
    "        ##\n",
    "        # Execute right player speed domain normalization\n",
    "        ##\n",
    "        vel_norms = np.sqrt(np.square(df['self\\\\_vx']) + np.square(df['self\\\\_vy']))\n",
    "        max_noise_contrib = vel_norms * player_rand\n",
    "        pdecays = default_player_decay + player_decay_delta * df['self\\\\_player\\\\_decay']\n",
    "        df[f'self\\\\_vx'] /= pdecays * (player_speed_max + max_noise_contrib)\n",
    "        df[f'self\\\\_vy'] /= pdecays * (player_speed_max + max_noise_contrib)\n",
    "    elif 'self\\\\_vx' in cols or 'self\\\\_vy' in cols:\n",
    "        print('ERROR: Cannot normalize self velocities without both components! Skipping.')\n",
    "print(f\"Finished in {time.time()-start} sec\")"
   ]
  },
  {
   "cell_type": "code",
   "execution_count": null,
   "metadata": {},
   "outputs": [],
   "source": [
    "start = time.time()\n",
    "correct_vel_normalizations(df)\n",
    "print(f\"Finished in {time.time()-start} sec\")"
   ]
  },
  {
   "cell_type": "code",
   "execution_count": null,
   "metadata": {},
   "outputs": [],
   "source": [
    "df.info()\n",
    "df.head()"
   ]
  },
  {
   "cell_type": "markdown",
   "metadata": {},
   "source": [
    "# Feature Space Exploration\n",
    "\n",
    "Let's get a random sample of the dataset to visualize stuff.\n",
    "First, specify our features."
   ]
  },
  {
   "cell_type": "markdown",
   "metadata": {},
   "source": [
    "## Joint distributions\n",
    "Since we normalized the field positions, we should see them in $[-1, 1]$"
   ]
  },
  {
   "cell_type": "code",
   "execution_count": null,
   "metadata": {},
   "outputs": [],
   "source": [
    "def plotjoint(x, y, xlabel=None, ylabel=None, alpha=1, rasterized=False):\n",
    "    if xlabel is None and hasattr(x,'name'):\n",
    "        xlabel = x.name\n",
    "    if ylabel is None and hasattr(y,'name'):\n",
    "        ylabel = y.name\n",
    "        \n",
    "    def myscatter(*args, **kwargs):\n",
    "        plt.scatter(s=.1, alpha=alpha, rasterized=rasterized, *args, **kwargs)\n",
    "    \n",
    "    p = sb.JointGrid(\n",
    "        x = x,\n",
    "        y = y\n",
    "    )\n",
    "    p.set_axis_labels(xlabel,ylabel)\n",
    "    p.plot_joint(myscatter)\n",
    "    sb.histplot(\n",
    "        x=x,\n",
    "        ax=p.ax_marg_x,\n",
    "        kde=True\n",
    "    )\n",
    "    sb.histplot(\n",
    "        y=y,\n",
    "        ax=p.ax_marg_y,\n",
    "        kde=True\n",
    "    )\n",
    "    return p"
   ]
  },
  {
   "cell_type": "code",
   "execution_count": null,
   "metadata": {},
   "outputs": [],
   "source": [
    "def plotjointgrouped(x_col, y_col, group_col, df, exclude=[], xlabel=None, ylabel=None, colors={}, alphas={}, rasterized=False, kde=True):\n",
    "    def colored_scatter(x, y, c=None, alpha=None):\n",
    "        def scatter(*args, **kwargs):\n",
    "            args = (x, y)\n",
    "            if c is not None:\n",
    "                kwargs['c'] = c\n",
    "            if alpha is not None:\n",
    "                kwargs['alpha'] = alpha\n",
    "            kwargs['s'] = 1\n",
    "            plt.scatter(rasterized=rasterized, *args, **kwargs)\n",
    "\n",
    "        return scatter\n",
    "    \n",
    "    p = sb.JointGrid(\n",
    "        x = x_col,\n",
    "        y = y_col,\n",
    "        data = df\n",
    "    )\n",
    "    p.set_axis_labels(xlabel,ylabel)\n",
    "    legends = []\n",
    "    legend_colors = []\n",
    "    for name, group in df.groupby(group_col):\n",
    "        name = name.decode('utf8')\n",
    "        if name in exclude: continue\n",
    "        legends.append(name)\n",
    "        color = colors.get(name, 'black')\n",
    "        legend_colors.append(color)\n",
    "        alpha = alphas.get(name, 0.1)\n",
    "        p.plot_joint(\n",
    "            colored_scatter(group[x_col], group[y_col], color, alpha)\n",
    "        )\n",
    "        sb.histplot(\n",
    "            x=group[x_col].values,\n",
    "            ax=p.ax_marg_x,\n",
    "            color=color,\n",
    "            kde=kde\n",
    "        )\n",
    "        sb.histplot(\n",
    "            y=group[y_col].values,\n",
    "            ax=p.ax_marg_y,\n",
    "            color=color,\n",
    "            kde=kde\n",
    "        )\n",
    "    lgnd = plt.legend(legends, markerscale=10, loc='upper right', prop={'size': 10})\n",
    "    return p"
   ]
  },
  {
   "cell_type": "markdown",
   "metadata": {},
   "source": [
    "### Ball"
   ]
  },
  {
   "cell_type": "code",
   "execution_count": null,
   "metadata": {
    "scrolled": true
   },
   "outputs": [],
   "source": [
    "start = time.time()\n",
    "plotjoint(df['ball\\\\_x'],df['ball\\\\_y'], 'Ball x', 'Ball y').savefig('ballx_bally.pdf', format='pdf')\n",
    "plotjoint(df['ball\\\\_vx'],df['ball\\\\_vy'], 'Ball vx', 'Ball vy').savefig('ballvx_ballvy.pdf', format='pdf')\n",
    "print(f\"Finished in {time.time()-start} sec\")"
   ]
  },
  {
   "cell_type": "markdown",
   "metadata": {},
   "source": [
    "### Helios field players"
   ]
  },
  {
   "cell_type": "code",
   "execution_count": null,
   "metadata": {
    "scrolled": false
   },
   "outputs": [],
   "source": [
    "start = time.time()\n",
    "xs = pd.concat(tuple(df[f'r{unum}\\\\_x'] for unum in range(2,12)))\n",
    "ys = pd.concat(tuple(df[f'r{unum}\\\\_y'] for unum in range(2,12)))\n",
    "bodies = pd.concat(tuple(df[f'r{unum}\\_body'] for unum in range(2,12)))\n",
    "vxs = pd.concat(tuple(df[f'r{unum}\\\\_vx'] for unum in range(2,12)))\n",
    "vys = pd.concat(tuple(df[f'r{unum}\\\\_vy'] for unum in range(2,12)))\n",
    "print(f\"Finished in {time.time()-start} sec\")\n",
    "print(vxs[1:20])"
   ]
  },
  {
   "cell_type": "code",
   "execution_count": null,
   "metadata": {
    "scrolled": true
   },
   "outputs": [],
   "source": [
    "start = time.time()\n",
    "plotjoint(xs, ys, 'helios\\\\_field\\\\_players\\\\_xs','helios\\\\_field\\\\_players\\\\_ys')\n",
    "plotjoint(xs, bodies, 'helios\\\\_field\\\\_players\\\\_xs','helios\\\\_field\\\\_players\\\\_bodies')\n",
    "plotjoint(bodies, ys, 'helios\\\\_field\\\\_players\\\\_bodies','helios\\\\_field\\\\_players\\\\_ys')\n",
    "plotjoint(vxs, vys, 'helios\\\\_field\\\\_players\\\\_vxs','helios\\\\_field\\\\_players\\\\_vys')\n",
    "plotjoint(xs, vxs, 'helios\\\\_field\\\\_players\\\\_xs','helios\\\\_field\\\\_players\\\\_vxs')\n",
    "plotjoint(vxs, ys, 'helios\\\\_field\\\\_players\\\\_vxs','helios\\\\_field\\\\_players\\\\_ys')\n",
    "plotjoint(xs, vys, 'helios\\\\_field\\\\_players\\\\_xs','helios\\\\_field\\\\_players\\\\_vys')\n",
    "plotjoint(vys, ys, 'helios\\\\_field\\\\_players\\\\_vys','helios\\\\_field\\\\_players\\\\_ys')\n",
    "print(f\"Finished in {time.time()-start} sec\")"
   ]
  },
  {
   "cell_type": "markdown",
   "metadata": {},
   "source": [
    "### Other field players "
   ]
  },
  {
   "cell_type": "code",
   "execution_count": null,
   "metadata": {},
   "outputs": [],
   "source": [
    "start = time.time()\n",
    "others_xs = pd.concat(tuple(df[f'l{unum}\\\\_x'] for unum in range(2,12)))\n",
    "others_ys = pd.concat(tuple(df[f'l{unum}\\\\_y'] for unum in range(2,12)))\n",
    "others_bodies = pd.concat(tuple(df[f'l{unum}\\\\_body'] for unum in range(2,12)))\n",
    "others_vxs = pd.concat(tuple(df[f'l{unum}\\\\_vx'] for unum in range(2,12)))\n",
    "others_vys = pd.concat(tuple(df[f'l{unum}\\\\_vy'] for unum in range(2,12)))\n",
    "print(f\"Finished in {time.time()-start} sec\")"
   ]
  },
  {
   "cell_type": "code",
   "execution_count": null,
   "metadata": {
    "scrolled": true
   },
   "outputs": [],
   "source": [
    "start = time.time()\n",
    "plotjoint(others_xs, others_ys, 'others\\\\_field\\\\_players\\\\_xs','others\\\\_field\\\\_players\\\\_ys')\n",
    "plotjoint(others_xs, others_bodies, 'others\\\\_field\\\\_players\\\\_xs','others\\\\_field\\\\_players\\\\_bodies')\n",
    "plotjoint(others_bodies, others_ys, 'others\\\\_field\\\\_players\\\\_bodies','others\\\\_field\\\\_players\\\\_ys')\n",
    "plotjoint(others_vxs, others_vys, 'others\\\\_field\\\\_players\\\\_vxs','others\\\\_field\\\\_players\\\\_vys')\n",
    "plotjoint(others_xs, others_vxs, 'others\\\\_field\\\\_players\\\\_xs','others\\\\_field\\\\_players\\\\_vxs')\n",
    "plotjoint(others_vxs, others_ys, 'others\\\\_field\\\\_players\\\\_vxs','others\\\\_field\\\\_players\\\\_ys')\n",
    "plotjoint(others_xs, others_vys, 'others\\\\_field\\\\_players\\\\_xs','others\\\\_field\\\\_players\\\\_vys')\n",
    "plotjoint(others_vys, others_ys, 'others\\\\_field\\\\_players\\\\_vys','others\\\\_field\\\\_players\\\\_ys')\n",
    "print(f\"Finished in {time.time()-start} sec\")"
   ]
  },
  {
   "cell_type": "markdown",
   "metadata": {},
   "source": [
    "### All field players"
   ]
  },
  {
   "cell_type": "code",
   "execution_count": null,
   "metadata": {},
   "outputs": [],
   "source": [
    "start = time.time()\n",
    "all_xs = pd.concat((xs, others_xs), ignore_index=True)\n",
    "all_ys = pd.concat((ys, others_ys), ignore_index=True)\n",
    "all_bodies = pd.concat((bodies, others_bodies), ignore_index=True)\n",
    "all_vxs = pd.concat((vxs, others_vxs), ignore_index=True)\n",
    "all_vys = pd.concat((vys, others_vys), ignore_index=True)\n",
    "print(f\"Finished in {time.time()-start} sec\")"
   ]
  },
  {
   "cell_type": "code",
   "execution_count": null,
   "metadata": {
    "scrolled": true
   },
   "outputs": [],
   "source": [
    "start = time.time()\n",
    "plotjoint(all_xs, all_ys, 'all\\\\_field\\\\_players\\\\_xs','all\\\\_field\\\\_players\\\\_ys')\n",
    "plotjoint(all_xs, all_bodies, 'all\\\\_field\\\\_players\\\\_xs','all\\\\_field\\\\_players\\\\_bodies')\n",
    "plotjoint(all_bodies, all_ys, 'all\\\\_field\\\\_players\\\\_bodies','all\\\\_field\\\\_players\\\\_ys')\n",
    "plotjoint(all_vxs, all_vys, 'all\\\\_field\\\\_players\\\\_vxs','all\\\\_field\\\\_players\\\\_vys')\n",
    "plotjoint(all_xs, all_vxs, 'all\\\\_field\\\\_players\\\\_xs','all\\\\_field\\\\_players\\\\_vxs')\n",
    "plotjoint(all_vxs, all_ys, 'all\\\\_field\\\\_players\\\\_vxs','all\\\\_field\\\\_players\\\\_ys')\n",
    "plotjoint(all_xs, all_vys, 'all\\\\_field\\\\_players\\\\_xs','all\\\\_field\\\\_players\\\\_vys')\n",
    "plotjoint(all_vys, all_ys, 'all\\\\_field\\\\_players\\\\_vys','all\\\\_field\\\\_players\\\\_ys')\n",
    "print(f\"Finished in {time.time()-start} sec\")"
   ]
  },
  {
   "cell_type": "markdown",
   "metadata": {},
   "source": [
    "### Helios players (including goalkeeper)"
   ]
  },
  {
   "cell_type": "code",
   "execution_count": null,
   "metadata": {},
   "outputs": [],
   "source": [
    "start = time.time()\n",
    "xs = pd.concat((xs, df['r1\\\\_x']), ignore_index=True)\n",
    "ys = pd.concat((ys, df['r1\\\\_y']), ignore_index=True)\n",
    "bodies = pd.concat((bodies, df['r1\\\\_body']), ignore_index=True)\n",
    "vxs = pd.concat((vxs, df['r1\\\\_vx']), ignore_index=True)\n",
    "vys = pd.concat((vys, df['r1\\\\_vy']), ignore_index=True)\n",
    "print(f\"Finished in {time.time()-start} sec\")"
   ]
  },
  {
   "cell_type": "code",
   "execution_count": null,
   "metadata": {
    "scrolled": true
   },
   "outputs": [],
   "source": [
    "start = time.time()\n",
    "index = xs.sample(100000).index\n",
    "plotjoint(xs[index], ys[index], 'Helios x','Helios y', alpha=1).savefig('heliosx_heliosy.pdf', format='pdf')\n",
    "plotjoint(xs[index], bodies[index], 'Helios x', 'Helios body', alpha=1).savefig('heliosx_heliosbody.pdf', format='pdf')\n",
    "plotjoint(bodies[index], ys[index], 'Helios body','Helios y', alpha=1).savefig('heliosbody_heliosy.pdf', format='pdf')\n",
    "plotjoint(vxs[index], vys[index], 'Helios vx', 'Helios vy', alpha=1).savefig('heliosvx_heliosvy.pdf', format='pdf')\n",
    "plotjoint(xs, vxs, 'full\\\\_helios\\\\_field\\\\_players\\\\_xs','full\\\\_helios\\\\_field\\\\_players\\\\_vxs')\n",
    "plotjoint(vxs, ys, 'full\\\\_helios\\\\_field\\\\_players\\\\_vxs','full\\\\_helios\\\\_field\\\\_players\\\\_ys')\n",
    "plotjoint(xs, vys, 'full\\\\_helios\\\\_field\\\\_players\\\\_xs','full\\\\_helios\\\\_field\\\\_players\\\\_vys')\n",
    "plotjoint(vys, ys, 'full\\\\_helios\\\\_field\\\\_players\\\\_vys','full\\\\_helios\\\\_field\\\\_players\\\\_ys')\n",
    "print(f\"Finished in {time.time()-start} sec\")"
   ]
  },
  {
   "cell_type": "markdown",
   "metadata": {},
   "source": [
    "### Other players (including goalkeeper)"
   ]
  },
  {
   "cell_type": "code",
   "execution_count": null,
   "metadata": {},
   "outputs": [],
   "source": [
    "start = time.time()\n",
    "others_xs = pd.concat((others_xs, df['l1\\\\_x']), ignore_index=True)\n",
    "others_ys = pd.concat((others_ys, df['l1\\\\_y']), ignore_index=True)\n",
    "others_bodies = pd.concat((others_bodies, df['l1\\\\_body']), ignore_index=True)\n",
    "others_vxs = pd.concat((others_vxs, df['l1\\\\_vx']), ignore_index=True)\n",
    "others_vys = pd.concat((others_vys, df['l1\\\\_vy']), ignore_index=True)\n",
    "print(f\"Finished in {time.time()-start} sec\")"
   ]
  },
  {
   "cell_type": "code",
   "execution_count": null,
   "metadata": {
    "scrolled": true
   },
   "outputs": [],
   "source": [
    "start = time.time()\n",
    "index = others_xs.sample(100000).index\n",
    "plotjoint(others_xs[index], others_ys[index], \"Adversaries x\", \"Adversaries y\").savefig('othersx_othersy.pdf', format='pdf')\n",
    "plotjoint(others_xs[index], others_bodies[index], \"Adversaries x\", \"Adversaries body\").savefig('othersx_othersbody.pdf', format='pdf')\n",
    "plotjoint(others_bodies[index], others_ys[index], \"Adversaries body\", \"Adversaries y\").savefig('othersbody_othersy.pdf', format='pdf')\n",
    "plotjoint(others_vxs[index], others_vys[index], 'Adversaries vx', 'Adversaries vy').savefig('othersvx_othersvy.pdf', format='pdf')\n",
    "plotjoint(others_xs, others_vxs, 'Adversaries x', 'Adversaries vx')\n",
    "plotjoint(others_vxs, others_ys, \"Adversaries vx\", \"Adversaries y\")\n",
    "plotjoint(others_xs, others_vys, 'full\\\\_others\\\\_field\\\\_players\\\\_xs', 'full\\\\_others\\\\_field\\\\_players\\\\_vys')\n",
    "plotjoint(others_vys, others_ys, 'full\\\\_others\\\\_field\\\\_players\\\\_vys', 'full\\\\_others\\\\_field\\\\_players\\\\_ys')\n",
    "print(f\"Finished in {time.time()-start} sec\")"
   ]
  },
  {
   "cell_type": "markdown",
   "metadata": {},
   "source": [
    "### All players (including goalkeeper)"
   ]
  },
  {
   "cell_type": "code",
   "execution_count": null,
   "metadata": {},
   "outputs": [],
   "source": [
    "start = time.time()\n",
    "all_xs = pd.concat((xs, others_xs), ignore_index=True)\n",
    "all_ys = pd.concat((ys, others_ys), ignore_index=True)\n",
    "all_bodies = pd.concat((bodies, others_bodies), ignore_index=True)\n",
    "all_vxs = pd.concat((vxs, others_vxs), ignore_index=True)\n",
    "all_vys = pd.concat((vys, others_vys), ignore_index=True)\n",
    "print(f\"Finished in {time.time()-start} sec\")"
   ]
  },
  {
   "cell_type": "code",
   "execution_count": null,
   "metadata": {
    "scrolled": true
   },
   "outputs": [],
   "source": [
    "start = time.time()\n",
    "index = all_xs.sample(100000).index\n",
    "plotjoint(all_xs[index], all_ys[index], \"All teams x\" ,\"All teams y\").savefig('allx_ally.pdf', format='pdf')\n",
    "plotjoint(all_xs[index], all_bodies[index], \"All teams x\",\"All teams body\").savefig('allx_allbody.pdf', format='pdf')\n",
    "plotjoint(all_bodies[index], all_ys[index], \"All teams body\", \"All teams y\").savefig('allbody_ally.pdf', format='pdf')\n",
    "plotjoint(all_vxs[index], all_vys[index], 'full\\\\_all\\\\_field\\\\_players\\\\_vxs','full\\\\_all\\\\_field\\\\_players\\\\_vys').savefig('allvx_allvy.pdf', format='pdf')\n",
    "plotjoint(all_xs, all_vxs, 'full\\\\_all\\\\_field\\\\_players\\\\_xs','full\\\\_all\\\\_field\\\\_players\\\\_vxs')\n",
    "plotjoint(all_vxs, all_ys, \"All teams vx\", \"All teams vy\")\n",
    "plotjoint(all_xs, all_vys, 'full\\\\_all\\\\_field\\\\_players\\\\_xs','full\\\\_all\\\\_field\\\\_players\\\\_vys')\n",
    "plotjoint(all_vys, all_ys, 'full\\\\_all\\\\_field\\\\_players\\\\_vys','full\\\\_all\\\\_field\\\\_players\\\\_ys')\n",
    "print(f\"Finished in {time.time()-start} sec\")"
   ]
  },
  {
   "cell_type": "markdown",
   "metadata": {},
   "source": [
    "## Hetero Parameters "
   ]
  },
  {
   "cell_type": "markdown",
   "metadata": {},
   "source": [
    "Let's check their normalization individually"
   ]
  },
  {
   "cell_type": "code",
   "execution_count": null,
   "metadata": {},
   "outputs": [],
   "source": [
    "start = time.time()\n",
    "axis_labels = {\n",
    "    'dash\\\\_power\\\\_rate': 'Dash Power Rate',\n",
    "    'effort\\\\_min': 'Effort Minimum',\n",
    "    'effort\\\\_max': 'Effort Maximum',\n",
    "    'extra\\\\_stamina': 'Extra Stamina',\n",
    "    'inertia\\\\_moment': 'Inertia Moment',\n",
    "    'kick\\\\_rand': 'Kick Random',\n",
    "    'kickable\\\\_margin': 'Kickable Margin',\n",
    "    'player\\\\_decay': 'Player Decay',\n",
    "}\n",
    "for feature in heteroparam_features:\n",
    "    feature = feature.replace('_', '\\\\_')\n",
    "    values = pd.concat(tuple(df[f\"{side}{unum}\\\\_{feature}\"] for side in ('l','r') for unum in range(1,12)))\n",
    "    p = sb.displot(values, kde=True, label=feature)\n",
    "    p.set_axis_labels(axis_labels[feature], '')\n",
    "    feature = feature.replace('\\\\', '')\n",
    "    p.savefig(f'all_{feature}.pdf', format='pdf')\n",
    "print(f\"Finished in {time.time()-start} sec\")"
   ]
  },
  {
   "cell_type": "markdown",
   "metadata": {},
   "source": [
    "# Action Space Exploration\n",
    "\n",
    "Now let's explore a bit about the actions in our dataset.\n",
    "\n",
    "Kick and Tackle actions are rare, so we need to sample more datapoints."
   ]
  },
  {
   "cell_type": "code",
   "execution_count": null,
   "metadata": {
    "scrolled": true
   },
   "outputs": [],
   "source": [
    "start = time.time()\n",
    "BATCH_SIZE = 1000000 # 1M rows is around 1.6 % of the dataset\n",
    "columns = [\n",
    "    *(f'ball_{feature}' for feature in position_features + vel_features),\n",
    "    *(f'self_{feature}' for feature in pose_features + vel_features + heteroparam_features),\n",
    "    *output_columns\n",
    "]\n",
    "dataset2 = tf.data.experimental.make_csv_dataset(\n",
    "    'indiv_arch_dataset.csv.gz',\n",
    "    column_defaults=(\n",
    "        column_defaults[:4] + column_defaults[-20:] # Ball + Self and Commands\n",
    "    ),\n",
    "    select_columns=columns,\n",
    "    batch_size=BATCH_SIZE,\n",
    "    compression_type='GZIP',\n",
    "    shuffle=False, # Batch size is too big for shuffle to make a difference in this analysis\n",
    "    na_value=''\n",
    ").take(1) # Dataset with only 1 batch\n",
    "print(f\"Finished in {time.time()-start} sec\")"
   ]
  },
  {
   "cell_type": "markdown",
   "metadata": {},
   "source": [
    "This one below can take more than an hour to load, even though we're consuming less memory because we select only some columns"
   ]
  },
  {
   "cell_type": "code",
   "execution_count": null,
   "metadata": {},
   "outputs": [],
   "source": [
    "start = time.time()\n",
    "df2 = pd.DataFrame.from_dict(\n",
    "    data=dict(next(dataset2.as_numpy_iterator()).items()), # Because we have a single batch\n",
    "    dtype=np.float32\n",
    ")\n",
    "print(f\"Finished in {time.time()-start} sec\")"
   ]
  },
  {
   "cell_type": "markdown",
   "metadata": {},
   "source": [
    "#### **Important**: This allows us to use latex with column names that have '_' characters"
   ]
  },
  {
   "cell_type": "code",
   "execution_count": null,
   "metadata": {},
   "outputs": [],
   "source": [
    "df2 = df2.rename(lambda s: s.replace('_', '\\\\_'), axis='columns')"
   ]
  },
  {
   "cell_type": "code",
   "execution_count": null,
   "metadata": {},
   "outputs": [],
   "source": [
    "start = time.time()\n",
    "correct_vel_normalizations(df2)\n",
    "print(f\"Finished in {time.time()-start} sec\")"
   ]
  },
  {
   "cell_type": "code",
   "execution_count": null,
   "metadata": {},
   "outputs": [],
   "source": [
    "df2.info()\n",
    "df2.head()"
   ]
  },
  {
   "cell_type": "markdown",
   "metadata": {},
   "source": [
    "## Action Distributions\n"
   ]
  },
  {
   "cell_type": "code",
   "execution_count": null,
   "metadata": {
    "scrolled": false
   },
   "outputs": [],
   "source": [
    "start = time.time()\n",
    "plt.box(False)\n",
    "bins = [-0.5, 0.5, 1.5, 2.5, 3.5]\n",
    "total_commands = len(df2)\n",
    "values, bins_edges, p = plt.hist(\n",
    "    df2['playercommand\\\\_type'], \n",
    "    bins=bins, \n",
    "    rwidth=0.8\n",
    ")\n",
    "for i in range(len(bins)-1):\n",
    "    text = f\"{int(10000*values[i]/total_commands)/100}\\\\%\"\n",
    "    plt.text(\n",
    "        bins_edges[i]+(0.32*5)/len(text),\n",
    "        values[i]+10000,\n",
    "        text\n",
    "    )\n",
    "plt.xlabel('Command')\n",
    "plt.ylabel('\\# per million')\n",
    "plt.axline((0.0,-0.1),(1.0,-0.1),color='black',linewidth=1)\n",
    "plt.plot()\n",
    "plt.savefig('command_distribution.pdf', format='pdf', bbox_inches='tight')\n",
    "print(f\"Finished in {time.time()-start} sec\")"
   ]
  },
  {
   "cell_type": "code",
   "execution_count": null,
   "metadata": {
    "scrolled": false
   },
   "outputs": [],
   "source": [
    "start = time.time()\n",
    "colors = {\n",
    "    'dash': 'blue',\n",
    "    'turn': 'green',\n",
    "    'kick': 'gold',\n",
    "    'tackle': 'red'\n",
    "}\n",
    "plotjointgrouped(\n",
    "    'self\\\\_x', \n",
    "    'self\\\\_y', \n",
    "    'playercommand\\\\_type', \n",
    "    df=df2.sample(300000),\n",
    "    xlabel='Helios x', \n",
    "    ylabel='Helios y', \n",
    "    colors=colors,\n",
    "    alphas={'dash':0.1, 'turn': 0.1, 'kick': 0.8, 'tackle': 1}\n",
    ").savefig('command_scatter.pdf', format='pdf', bbox_inches='tight')\n",
    "print(f\"Finished in {time.time()-start} sec\")"
   ]
  },
  {
   "cell_type": "code",
   "execution_count": null,
   "metadata": {
    "scrolled": true
   },
   "outputs": [],
   "source": [
    "start = time.time()\n",
    "colors = {\n",
    "    'dash': 'blue',\n",
    "    'turn': 'green',\n",
    "    'kick': 'gold',\n",
    "    'tackle': 'red'\n",
    "}\n",
    "plotjointgrouped(\n",
    "    'self\\\\_x', \n",
    "    'self\\\\_y', \n",
    "    'playercommand\\\\_type', \n",
    "    df=df2,\n",
    "    exclude=['dash','turn','kick'],\n",
    "    xlabel='Helios x', \n",
    "    ylabel='Helios y', \n",
    "    colors=colors,\n",
    "    alphas={'tackle': 1}\n",
    ").savefig('tackle_scatter.pdf', format='pdf', bbox_inches='tight')\n",
    "plotjointgrouped(\n",
    "    'self\\\\_x', \n",
    "    'self\\\\_y', \n",
    "    'playercommand\\\\_type', \n",
    "    df=df2,\n",
    "    exclude=['dash','turn','tackle'],\n",
    "    xlabel='Helios x', \n",
    "    ylabel='Helios y', \n",
    "    colors=colors,\n",
    "    alphas={'kick': 1}\n",
    ").savefig('kick_scatter.pdf', format='pdf', bbox_inches='tight')\n",
    "plotjointgrouped(\n",
    "    'self\\\\_x', \n",
    "    'self\\\\_y', \n",
    "    'playercommand\\\\_type', \n",
    "    df=df2,\n",
    "    exclude=['dash','turn'],\n",
    "    xlabel='Helios x', \n",
    "    ylabel='Helios y', \n",
    "    colors=colors,\n",
    "    alphas={'kick':0.5, 'tackle': 0.5}\n",
    ").savefig('kick_tackle_scatter.pdf', format='pdf', bbox_inches='tight')\n",
    "plotjointgrouped(\n",
    "    'self\\\\_vx', \n",
    "    'self\\\\_vy', \n",
    "    'playercommand\\\\_type', \n",
    "    df=df2,\n",
    "    exclude=['dash','turn','kick'],\n",
    "    xlabel='Helios vx', \n",
    "    ylabel='Helios vy', \n",
    "    colors=colors,\n",
    "    alphas={'tackle': 1}\n",
    ")\n",
    "plotjointgrouped(\n",
    "    'self\\\\_vx', \n",
    "    'self\\\\_vy', \n",
    "    'playercommand\\\\_type', \n",
    "    df=df2,\n",
    "    exclude=['dash','turn','tackle'],\n",
    "    xlabel='Helios vx', \n",
    "    ylabel='Helios vy', \n",
    "    colors=colors,\n",
    "    alphas={'kick': 1}\n",
    ")\n",
    "plotjointgrouped(\n",
    "    'self\\\\_vx', \n",
    "    'self\\\\_vy', \n",
    "    'playercommand\\\\_type', \n",
    "    df=df2,\n",
    "    exclude=['dash','turn'],\n",
    "    xlabel='Helios vx', \n",
    "    ylabel='Helios vy', \n",
    "    colors=colors,\n",
    "    alphas={'kick':0.5, 'tackle': 0.5}\n",
    ").savefig('kick_tackle_self_vels_scatter.pdf', format='pdf', bbox_inches='tight')\n",
    "plotjointgrouped(\n",
    "    'ball\\\\_vx', \n",
    "    'ball\\\\_vy', \n",
    "    'playercommand\\\\_type', \n",
    "    df=df2,\n",
    "    exclude=['dash','turn','kick'],\n",
    "    xlabel='Ball vx', \n",
    "    ylabel='Ball vy', \n",
    "    colors=colors,\n",
    "    alphas={'tackle': 1}\n",
    ")\n",
    "plotjointgrouped(\n",
    "    'ball\\\\_vx', \n",
    "    'ball\\\\_vy', \n",
    "    'playercommand\\\\_type', \n",
    "    df=df2,\n",
    "    exclude=['dash','turn','tackle'],\n",
    "    xlabel='Ball vx', \n",
    "    ylabel='Ball vy', \n",
    "    colors=colors,\n",
    "    alphas={'kick': 1}\n",
    ")\n",
    "plotjointgrouped(\n",
    "    'ball\\\\_vx', \n",
    "    'ball\\\\_vy', \n",
    "    'playercommand\\\\_type', \n",
    "    df=df2,\n",
    "    exclude=['dash','turn'],\n",
    "    xlabel='Ball vx', \n",
    "    ylabel='Ball vy', \n",
    "    colors=colors,\n",
    "    alphas={'kick':0.5, 'tackle': 0.5}\n",
    ").savefig('kick_tackle_ballvels_scatter.pdf', format='pdf', bbox_inches='tight')\n",
    "print(f\"Finished in {time.time()-start} sec\")"
   ]
  },
  {
   "cell_type": "code",
   "execution_count": null,
   "metadata": {
    "scrolled": true
   },
   "outputs": [],
   "source": [
    "start = time.time()\n",
    "colors = {\n",
    "    'dash': 'blue',\n",
    "    'turn': 'green',\n",
    "    'kick': 'gold',\n",
    "    'tackle': 'red'\n",
    "}\n",
    "plotjointgrouped(\n",
    "    'self\\\\_x', \n",
    "    'self\\\\_y', \n",
    "    'playercommand\\\\_type', \n",
    "    df=df2.sample(300000),\n",
    "    exclude=['turn','kick','tackle'],\n",
    "    xlabel='Helios x', \n",
    "    ylabel='Helios y', \n",
    "    colors=colors,\n",
    "    alphas={'dash':0.1}\n",
    ").savefig('dash_scatter_os.pdf', format='pdf', bbox_inches='tight')\n",
    "plotjointgrouped(\n",
    "    'self\\\\_x', \n",
    "    'self\\\\_y', \n",
    "    'playercommand\\\\_type', \n",
    "    df=df2.sample(300000),\n",
    "    exclude=['dash','kick','tackle'],\n",
    "    xlabel='Helios x', \n",
    "    ylabel='Helios y', \n",
    "    colors=colors,\n",
    "    alphas={'turn':0.1}\n",
    ").savefig('turn_scatter_os.pdf', format='pdf', bbox_inches='tight')\n",
    "plotjointgrouped(\n",
    "    'self\\\\_x', \n",
    "    'self\\\\_y', \n",
    "    'playercommand\\\\_type', \n",
    "    df=df2.sample(300000),\n",
    "    exclude=['kick','tackle'],\n",
    "    xlabel='Helios x', \n",
    "    ylabel='Helios y', \n",
    "    colors=colors,\n",
    "    alphas={'dash':0.1, 'turn': 0.1}\n",
    ").savefig('dash_turn_scatter_os.pdf', format='pdf', bbox_inches='tight')\n",
    "plotjointgrouped(\n",
    "    'self\\\\_vx', \n",
    "    'self\\\\_vy', \n",
    "    'playercommand\\\\_type', \n",
    "    df=df2.sample(300000),\n",
    "    exclude=['kick','tackle'],\n",
    "    xlabel='Helios vx', \n",
    "    ylabel='Helios vy', \n",
    "    colors=colors,\n",
    "    alphas={'dash':0.1, 'turn': 0.1}\n",
    ").savefig('dash_turn_self_vel_scatter.pdf', format='pdf', bbox_inches='tight')\n",
    "plotjointgrouped(\n",
    "    'ball\\\\_vx', \n",
    "    'ball\\\\_vy', \n",
    "    'playercommand\\\\_type', \n",
    "    df=df2.sample(300000),\n",
    "    exclude=['kick','tackle'],\n",
    "    xlabel='Ball vx', \n",
    "    ylabel='Ball vy', \n",
    "    colors=colors,\n",
    "    alphas={'dash':0.1, 'turn': 0.1}\n",
    ").savefig('dash_turn_ball_vel_scatter.pdf', format='pdf', bbox_inches='tight')\n",
    "print(f\"Finished in {time.time()-start} sec\")"
   ]
  },
  {
   "cell_type": "code",
   "execution_count": null,
   "metadata": {
    "scrolled": true
   },
   "outputs": [],
   "source": [
    "start = time.time()\n",
    "colors = {\n",
    "    'dash': 'blue',\n",
    "    'turn': 'green',\n",
    "    'kick': 'gold',\n",
    "    'tackle': 'red'\n",
    "}\n",
    "##\n",
    "# Separation of kick and tackle\n",
    "##\n",
    "diff_df = df2[['ball\\\\_x','ball\\\\_y','self\\\\_x','self\\\\_y','playercommand\\\\_type']].copy()\n",
    "diff_df = diff_df.assign(playerballxdiff=pd.Series(df2['self\\\\_x'] - df2['ball\\\\_x']).values)\n",
    "diff_df = diff_df.assign(playerballydiff=pd.Series(df2['self\\\\_y'] - df2['ball\\\\_y']).values)\n",
    "diff_df.info()\n",
    "plotjointgrouped(\n",
    "    'playerballxdiff', \n",
    "    'playerballydiff', \n",
    "    'playercommand\\\\_type', \n",
    "    df=diff_df,\n",
    "    exclude=['dash','turn'],\n",
    "    xlabel='Helios x - Ball x', \n",
    "    ylabel='Helios y - Ball y', \n",
    "    colors=colors,\n",
    "    alphas={'kick':0.5, 'tackle': 0.5},\n",
    "    kde=False\n",
    ").savefig('kick_tackle_posdiff_scatter.pdf', format='pdf')\n",
    "print(f\"Finished in {time.time()-start} sec\")"
   ]
  },
  {
   "cell_type": "markdown",
   "metadata": {},
   "source": [
    "## Action Parameters Distributions"
   ]
  },
  {
   "cell_type": "markdown",
   "metadata": {},
   "source": [
    "First, let's look at the parameters themselves"
   ]
  },
  {
   "cell_type": "code",
   "execution_count": null,
   "metadata": {
    "scrolled": false
   },
   "outputs": [],
   "source": [
    "start = time.time()\n",
    "##\n",
    "# Dash\n",
    "##\n",
    "plotjoint(\n",
    "    df2['dash\\\\_power'], \n",
    "    df2['dash\\\\_direction'], \n",
    "    'Dash Power', \n",
    "    'Dash Direction', \n",
    "    alpha=1\n",
    ").savefig('dash_power_dir_distribution.pdf', format='pdf')\n",
    "##\n",
    "# Turn\n",
    "##\n",
    "sb.displot(\n",
    "    df2['turn\\\\_moment']\n",
    ").set_axis_labels(\n",
    "    'Turn Moment',\n",
    "    '\\# per million'\n",
    ").savefig('turn_moment_distribution.pdf', format='pdf')\n",
    "##\n",
    "# Kick\n",
    "##\n",
    "plotjoint(\n",
    "    df2['kick\\\\_power'], \n",
    "    df2['kick\\\\_direction'], \n",
    "    'Kick Power', \n",
    "    'Kick Direction', \n",
    "    alpha=1\n",
    ").savefig('kick_power_dir_distribution.pdf', format='pdf')\n",
    "##\n",
    "# Tackle\n",
    "##\n",
    "sb.displot(\n",
    "    df2['tackle\\\\_direction']\n",
    ").set_axis_labels(\n",
    "    'Tackle Direction',\n",
    "    '\\# per million'\n",
    ").savefig('tackle_dir_distribution.pdf', format='pdf')\n",
    "print(f\"Finished in {time.time()-start} sec\")"
   ]
  },
  {
   "cell_type": "markdown",
   "metadata": {},
   "source": [
    "Now, at how they relate to features"
   ]
  },
  {
   "cell_type": "code",
   "execution_count": null,
   "metadata": {
    "scrolled": false
   },
   "outputs": [],
   "source": [
    "start = time.time()\n",
    "dash_only = df2.sample(300000)\n",
    "dash_only = dash_only[dash_only['playercommand\\\\_type'] == b'dash']\n",
    "turn_only = df2.sample(300000)\n",
    "turn_only = turn_only[turn_only['playercommand\\\\_type'] == b'turn']\n",
    "kick_only = df2[df2['playercommand\\\\_type'] == b'kick']\n",
    "tackle_only = df2[df2['playercommand\\\\_type'] == b'tackle']\n",
    "##\n",
    "# Dash\n",
    "##\n",
    "plt.figure()\n",
    "p = sb.scatterplot(\n",
    "    x='self\\\\_x',\n",
    "    y='self\\\\_y',\n",
    "    data=dash_only,\n",
    "    hue='dash\\\\_power',\n",
    "    s=0.5,\n",
    "    palette=\"flare\"\n",
    ")\n",
    "p.set_xlabel('Helios x') \n",
    "p.set_ylabel('Helios y')\n",
    "p.get_legend().remove()\n",
    "p.figure.colorbar(plt.cm.ScalarMappable(\n",
    "    cmap=\"flare\", \n",
    "    norm=plt.Normalize(dash_only['dash\\\\_power'].min(), dash_only['dash\\\\_power'].max())),\n",
    "    label='Dash Power'\n",
    ")\n",
    "plt.savefig('dash_power_selfpos_scatter.pdf', format='pdf', bbox_inches='tight')\n",
    "plt.figure()\n",
    "p = sb.scatterplot(\n",
    "    x='self\\\\_x',\n",
    "    y='self\\\\_y',\n",
    "    data=dash_only,\n",
    "    hue='dash\\\\_direction',\n",
    "    s=0.5,\n",
    "    palette=\"crest\"\n",
    ")\n",
    "p.set_xlabel('Helios x') \n",
    "p.set_ylabel('Helios y')\n",
    "p.get_legend().remove()\n",
    "p.figure.colorbar(plt.cm.ScalarMappable(\n",
    "    cmap=\"crest\", \n",
    "    norm=plt.Normalize(dash_only['dash\\\\_direction'].min(), dash_only['dash\\\\_direction'].max())),\n",
    "    label='Dash Direction'\n",
    ")\n",
    "plt.savefig('dash_dir_selfpos_scatter.pdf', format='pdf', bbox_inches='tight')\n",
    "##\n",
    "# Turn\n",
    "##\n",
    "plt.figure()\n",
    "p = sb.scatterplot(\n",
    "    x='self\\\\_x',\n",
    "    y='self\\\\_y',\n",
    "    data=turn_only,\n",
    "    hue='turn\\\\_moment',\n",
    "    s=0.5,\n",
    "    palette=\"crest\"\n",
    ")\n",
    "p.set_xlabel('Helios x') \n",
    "p.set_ylabel('Helios y')\n",
    "p.get_legend().remove()\n",
    "p.figure.colorbar(plt.cm.ScalarMappable(\n",
    "    cmap=\"crest\", \n",
    "    norm=plt.Normalize(turn_only['turn\\\\_moment'].min(), turn_only['turn\\\\_moment'].max())),\n",
    "    label='Turn Moment'\n",
    ")\n",
    "plt.savefig('turn_moment_selfpos_scatter.pdf', format='pdf', bbox_inches='tight')\n",
    "##\n",
    "# Kick\n",
    "##\n",
    "plt.figure()\n",
    "p = sb.scatterplot(\n",
    "    x='self\\\\_x',\n",
    "    y='self\\\\_y',\n",
    "    data=kick_only,\n",
    "    hue='kick\\\\_power',\n",
    "    s=0.5,\n",
    "    palette=\"flare\"\n",
    ")\n",
    "p.set_xlabel('Helios x') \n",
    "p.set_ylabel('Helios y')\n",
    "p.get_legend().remove()\n",
    "p.figure.colorbar(plt.cm.ScalarMappable(\n",
    "    cmap=\"flare\", \n",
    "    norm=plt.Normalize(kick_only['kick\\\\_power'].min(), kick_only['kick\\\\_power'].max())),\n",
    "    label='Kick Power'\n",
    ")\n",
    "plt.savefig('kick_power_selfpos_scatter.pdf', format='pdf', bbox_inches='tight')\n",
    "#\n",
    "#\n",
    "#\n",
    "plt.figure()\n",
    "p = sb.scatterplot(\n",
    "    x='self\\\\_x',\n",
    "    y='self\\\\_y',\n",
    "    data=kick_only,\n",
    "    hue='kick\\\\_direction',\n",
    "    s=0.5,\n",
    "    palette=\"crest\"\n",
    ")\n",
    "p.set_xlabel('Helios x') \n",
    "p.set_ylabel('Helios y')\n",
    "p.get_legend().remove()\n",
    "p.figure.colorbar(plt.cm.ScalarMappable(\n",
    "    cmap=\"crest\", \n",
    "    norm=plt.Normalize(kick_only['kick\\\\_direction'].min(), kick_only['kick\\\\_direction'].max())),\n",
    "    label='Kick Direction'\n",
    ")\n",
    "plt.savefig('kick_dir_selfpos_scatter.pdf', format='pdf', bbox_inches='tight')\n",
    "##\n",
    "# Tackle\n",
    "##\n",
    "plt.figure()\n",
    "p = sb.scatterplot(\n",
    "    x='self\\\\_x',\n",
    "    y='self\\\\_y',\n",
    "    data=tackle_only,\n",
    "    hue='tackle\\\\_direction',\n",
    "    palette=\"crest\"\n",
    ")\n",
    "p.set_xlabel('Helios x') \n",
    "p.set_ylabel('Helios y')\n",
    "p.get_legend().remove()\n",
    "bar = p.figure.colorbar(plt.cm.ScalarMappable(\n",
    "    cmap=\"crest\", \n",
    "    norm=plt.Normalize(tackle_only['tackle\\\\_direction'].min(), tackle_only['tackle\\\\_direction'].max())),\n",
    "    label='Tackle Direction'\n",
    ")\n",
    "plt.savefig('tackle_dir_selfpos_scatter.pdf', format='pdf', bbox_inches='tight')\n",
    "print(f\"Finished in {time.time()-start} sec\")"
   ]
  }
 ],
 "metadata": {
  "interpreter": {
   "hash": "a31d7bc5c31b8d338643fbb1b1d4ed08590613bad5f442065bb05b2bb95c52e1"
  },
  "kernelspec": {
   "display_name": "Python 3.9.0 64-bit ('rcss2d-deep-imitation-cJweqM4a-py3.9': poetry)",
   "name": "python3"
  },
  "language_info": {
   "codemirror_mode": {
    "name": "ipython",
    "version": 3
   },
   "file_extension": ".py",
   "mimetype": "text/x-python",
   "name": "python",
   "nbconvert_exporter": "python",
   "pygments_lexer": "ipython3",
   "version": "3.9.0"
  }
 },
 "nbformat": 4,
 "nbformat_minor": 2
}
